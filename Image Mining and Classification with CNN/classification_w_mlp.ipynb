{
  "nbformat": 4,
  "nbformat_minor": 0,
  "metadata": {
    "colab": {
      "name": "mlp_cover_work.ipynb",
      "provenance": [],
      "collapsed_sections": []
    },
    "kernelspec": {
      "name": "python3",
      "display_name": "Python 3"
    },
    "language_info": {
      "name": "python"
    }
  },
  "cells": [
    {
      "cell_type": "code",
      "execution_count": 1,
      "metadata": {
        "id": "8YET7HWCtbWp"
      },
      "outputs": [],
      "source": [
        "import tarfile\n",
        "tar = tarfile.open('data.tar.gz')\n",
        "tar.extractall()"
      ]
    },
    {
      "cell_type": "code",
      "source": [
        "pip install split-folders"
      ],
      "metadata": {
        "colab": {
          "base_uri": "https://localhost:8080/"
        },
        "id": "xX36K9_atmKN",
        "outputId": "96d4f69d-43cf-45e8-d077-7bc588c6ead7"
      },
      "execution_count": 2,
      "outputs": [
        {
          "output_type": "stream",
          "name": "stdout",
          "text": [
            "Collecting split-folders\n",
            "  Downloading split_folders-0.4.3-py3-none-any.whl (7.4 kB)\n",
            "Installing collected packages: split-folders\n",
            "Successfully installed split-folders-0.4.3\n"
          ]
        }
      ]
    },
    {
      "cell_type": "code",
      "source": [
        "import splitfolders\n",
        "splitfolders.ratio(\"/content/Resize\", output=\"splitted_data\", seed=43, ratio=(.8,.1,.1))"
      ],
      "metadata": {
        "colab": {
          "base_uri": "https://localhost:8080/"
        },
        "id": "k60J6D1wv0gV",
        "outputId": "ba7e2cd4-22b2-4260-ec28-949a55f3d507"
      },
      "execution_count": 3,
      "outputs": [
        {
          "output_type": "stream",
          "name": "stderr",
          "text": [
            "Copying files: 5299 files [00:00, 6152.45 files/s]\n"
          ]
        }
      ]
    },
    {
      "cell_type": "code",
      "source": [
        "import torch\n",
        "import torch.nn as nn\n",
        "import torch.nn.functional as F\n",
        "import torchvision\n",
        "import torchvision.transforms as transforms\n",
        "import matplotlib.pyplot as plt\n",
        "import numpy as np\n",
        "\n",
        "# Device configuration\n",
        "device = torch.device('cuda' if torch.cuda.is_available() else 'cpu')\n",
        "\n",
        "# Hyper-parameters \n",
        "num_epochs = 75\n",
        "batch_size = 4\n",
        "learning_rate = 0.001\n",
        "\n",
        "# dataset has PILImage images of range [0, 1]. \n",
        "# We transform them to Tensors of normalized range [-1, 1]\n",
        "transform = transforms.Compose(\n",
        "    [transforms.ToTensor(),\n",
        "     transforms.RandomHorizontalFlip(),\n",
        "     transforms.Normalize(mean=[0.485, 0.456, 0.406],\n",
        "                         std=[0.229, 0.224, 0.225])])\n",
        "transform2 = transforms.Compose(\n",
        "    [transforms.ToTensor(),\n",
        "     transforms.Normalize(mean=[0.485, 0.456, 0.406],\n",
        "                         std=[0.229, 0.224, 0.225])])\n",
        "\n",
        "# Define datasets as train, test and validation.\n",
        "train_dataset = torchvision.datasets.ImageFolder(root='/content/splitted_data/train', \n",
        "                                                 transform=transform)\n",
        "print(\"Number of train dataset: \",len(train_dataset))\n",
        "test_dataset = torchvision.datasets.ImageFolder(root='/content/splitted_data/test',\n",
        "                                                transform=transform)\n",
        "print(\"Number of test dataset: \",len(test_dataset))\n",
        "valid_dataset = torchvision.datasets.ImageFolder(root='/content/splitted_data/val',\n",
        "                                                transform=transform2)\n",
        "print(\"Number of validation dataset: \",len(valid_dataset))\n",
        "train_loader = torch.utils.data.DataLoader(train_dataset, batch_size=batch_size,\n",
        "                                          shuffle=True, num_workers=0)\n",
        "test_loader = torch.utils.data.DataLoader(test_dataset, batch_size=batch_size,\n",
        "                                         shuffle=False, num_workers=0)\n",
        "valid_loader = torch.utils.data.DataLoader(valid_dataset, batch_size=batch_size,\n",
        "                                         shuffle=False, num_workers=0)\n",
        "\n",
        "classes = (\"book_cover\", \"magazine_cover\", \"movie_poster\")\n",
        "\n",
        "def imshow(img):\n",
        "    img = img / 2 + 0.5  # unnormalize\n",
        "    npimg = img.numpy()\n",
        "    plt.imshow(np.transpose(npimg, (1, 2, 0)))\n",
        "    plt.show()\n",
        "\n",
        "\n",
        "# get some random training images\n",
        "dataiter = iter(train_loader)\n",
        "images, labels = dataiter.next()\n",
        "\n",
        "# show images\n",
        "imshow(torchvision.utils.make_grid(images))\n",
        "\n",
        "class Net(nn.Module):\n",
        "    def __init__(self):\n",
        "        super(Net, self).__init__()\n",
        "        self.fc1 = nn.Linear(3*128 * 128, 120)\n",
        "        # linear layer (n_hidden -> hidden_2)\n",
        "        self.fc2 = nn.Linear(120, 120)\n",
        "        # linear layer (n_hidden -> 3)\n",
        "        self.fc3 = nn.Linear(120, 3)\n",
        "        # dropout layer (p=0.2)\n",
        "        # dropout prevents overfitting of data\n",
        "        self.dropout = nn.Dropout(0.2)\n",
        "\n",
        "    def forward(self, x):\n",
        "        # add hidden layer, with relu activation function\n",
        "        x = x.view(x.size(0), -1)\n",
        "        x = self.fc1(x)\n",
        "        x = self.fc2(x)\n",
        "        x = self.dropout(x)\n",
        "        x = F.relu(self.fc3(x))\n",
        "        return x\n",
        "\n",
        "model = Net().to(device)\n",
        "\n",
        "criterion = nn.CrossEntropyLoss()\n",
        "optimizer = torch.optim.SGD(model.parameters(), lr=learning_rate)\n",
        "\n",
        "n_total_steps = len(train_loader)\n",
        "for epoch in range(num_epochs):\n",
        "    train_loss=0.\n",
        "    for i, (images, labels) in enumerate(train_loader):\n",
        "        images = images.to(device)\n",
        "        labels = labels.to(device)\n",
        "\n",
        "        # Forward pass\n",
        "        optimizer.zero_grad()\n",
        "        outputs = model(images)\n",
        "        loss = criterion(outputs, labels)\n",
        "\n",
        "        # Backward and optimize\n",
        "        loss.backward()\n",
        "        optimizer.step()\n",
        "\n",
        "        train_loss += loss.item()*images.size(0)\n",
        "        \n",
        "    # print training statistics \n",
        "    # calculate average loss over an epoch\n",
        "    train_loss = train_loss/len(train_loader.dataset)\n",
        "\n",
        "    print('Epoch: {} \\tTraining Loss: {:.6f}'.format(\n",
        "        epoch+1, \n",
        "        train_loss\n",
        "        ))\n",
        "\n",
        "print('Finished Training')\n",
        "print(\"-\"*50)\n",
        "\n",
        "\n",
        "# initialize lists to monitor test loss and accuracy\n",
        "test_loss = 0.0\n",
        "class_correct = list(0. for i in range(3))\n",
        "class_total = list(0. for i in range(3))\n",
        "\n",
        "model.eval() # prep model for *evaluation*\n",
        "\n",
        "for data, target in test_loader:\n",
        "    # forward pass: compute predicted outputs by passing inputs to the model\n",
        "    output = model(data)\n",
        "    # calculate the loss\n",
        "    loss = criterion(output, target)\n",
        "    # update test loss \n",
        "    test_loss += loss.item()*data.size(0)\n",
        "    # convert output probabilities to predicted class\n",
        "    _, pred = torch.max(output, 1)\n",
        "    # compare predictions to true label\n",
        "    correct = np.squeeze(pred.eq(target.data.view_as(pred)))\n",
        "    # calculate test accuracy for each object class\n",
        "    for i in range(batch_size):\n",
        "        label = target.data[i]\n",
        "        class_correct[label] += correct[i].item()\n",
        "        class_total[label] += 1\n",
        "\n",
        "# calculate and print avg test loss\n",
        "test_loss = test_loss/len(test_loader.dataset)\n",
        "print('Test Loss: {:.6f}\\n'.format(test_loss))\n",
        "\n",
        "for i in range(3):\n",
        "    if class_total[i] > 0:\n",
        "        print('Test Accuracy of %5s: %2d%% (%2d/%2d)' % (\n",
        "            classes[i], 100 * class_correct[i] / class_total[i],\n",
        "            np.sum(class_correct[i]), np.sum(class_total[i])))\n",
        "    else:\n",
        "        print('Test Accuracy of %5s: N/A (no training examples)' % (classes[i]))\n",
        "\n",
        "print('\\nTest Accuracy (Overall): %2d%% (%2d/%2d)' % (\n",
        "    100. * np.sum(class_correct) / np.sum(class_total),\n",
        "    np.sum(class_correct), np.sum(class_total)))"
      ],
      "metadata": {
        "colab": {
          "base_uri": "https://localhost:8080/",
          "height": 1000
        },
        "id": "YcamfHT8tqE1",
        "outputId": "fe04b36e-65bd-40f8-9173-946fcd5cdcea"
      },
      "execution_count": 4,
      "outputs": [
        {
          "output_type": "stream",
          "name": "stdout",
          "text": [
            "Number of train dataset:  4238\n",
            "Number of test dataset:  532\n",
            "Number of validation dataset:  529\n"
          ]
        },
        {
          "output_type": "stream",
          "name": "stderr",
          "text": [
            "Clipping input data to the valid range for imshow with RGB data ([0..1] for floats or [0..255] for integers).\n"
          ]
        },
        {
          "output_type": "display_data",
          "data": {
            "image/png": "[encoded data removed]",
            "text/plain": [
              "<Figure size 432x288 with 1 Axes>"
            ]
          },
          "metadata": {
            "needs_background": "light"
          }
        },
        {
          "output_type": "stream",
          "name": "stdout",
          "text": [
            "Epoch: 1 \tTraining Loss: 1.105839\n",
            "Epoch: 2 \tTraining Loss: 1.097296\n",
            "Epoch: 3 \tTraining Loss: 1.092925\n",
            "Epoch: 4 \tTraining Loss: 1.091598\n",
            "Epoch: 5 \tTraining Loss: 1.091399\n",
            "Epoch: 6 \tTraining Loss: 1.087972\n",
            "Epoch: 7 \tTraining Loss: 1.087993\n",
            "Epoch: 8 \tTraining Loss: 1.083715\n",
            "Epoch: 9 \tTraining Loss: 1.082475\n",
            "Epoch: 10 \tTraining Loss: 1.083707\n",
            "Epoch: 11 \tTraining Loss: 1.079545\n",
            "Epoch: 12 \tTraining Loss: 1.077442\n",
            "Epoch: 13 \tTraining Loss: 1.079239\n",
            "Epoch: 14 \tTraining Loss: 1.075381\n",
            "Epoch: 15 \tTraining Loss: 1.069462\n",
            "Epoch: 16 \tTraining Loss: 1.062373\n",
            "Epoch: 17 \tTraining Loss: 1.064481\n",
            "Epoch: 18 \tTraining Loss: 1.064815\n",
            "Epoch: 19 \tTraining Loss: 1.063943\n",
            "Epoch: 20 \tTraining Loss: 1.059294\n",
            "Epoch: 21 \tTraining Loss: 1.053507\n",
            "Epoch: 22 \tTraining Loss: 1.057621\n",
            "Epoch: 23 \tTraining Loss: 1.046300\n",
            "Epoch: 24 \tTraining Loss: 1.042695\n",
            "Epoch: 25 \tTraining Loss: 1.039045\n",
            "Epoch: 26 \tTraining Loss: 1.030120\n",
            "Epoch: 27 \tTraining Loss: 1.039027\n",
            "Epoch: 28 \tTraining Loss: 1.035933\n",
            "Epoch: 29 \tTraining Loss: 1.035693\n",
            "Epoch: 30 \tTraining Loss: 1.023663\n",
            "Epoch: 31 \tTraining Loss: 1.020256\n",
            "Epoch: 32 \tTraining Loss: 1.017724\n",
            "Epoch: 33 \tTraining Loss: 1.023237\n",
            "Epoch: 34 \tTraining Loss: 1.008989\n",
            "Epoch: 35 \tTraining Loss: 1.011518\n",
            "Epoch: 36 \tTraining Loss: 1.006302\n",
            "Epoch: 37 \tTraining Loss: 1.005897\n",
            "Epoch: 38 \tTraining Loss: 1.004165\n",
            "Epoch: 39 \tTraining Loss: 1.001972\n",
            "Epoch: 40 \tTraining Loss: 1.001457\n",
            "Epoch: 41 \tTraining Loss: 0.997212\n",
            "Epoch: 42 \tTraining Loss: 0.985089\n",
            "Epoch: 43 \tTraining Loss: 0.992342\n",
            "Epoch: 44 \tTraining Loss: 0.984611\n",
            "Epoch: 45 \tTraining Loss: 0.990095\n",
            "Epoch: 46 \tTraining Loss: 0.980214\n",
            "Epoch: 47 \tTraining Loss: 0.980221\n",
            "Epoch: 48 \tTraining Loss: 0.977078\n",
            "Epoch: 49 \tTraining Loss: 0.976420\n",
            "Epoch: 50 \tTraining Loss: 0.976477\n",
            "Epoch: 51 \tTraining Loss: 0.970175\n",
            "Epoch: 52 \tTraining Loss: 0.967494\n",
            "Epoch: 53 \tTraining Loss: 0.963599\n",
            "Epoch: 54 \tTraining Loss: 0.965119\n",
            "Epoch: 55 \tTraining Loss: 0.958163\n",
            "Epoch: 56 \tTraining Loss: 0.958213\n",
            "Epoch: 57 \tTraining Loss: 0.958766\n",
            "Epoch: 58 \tTraining Loss: 0.951750\n",
            "Epoch: 59 \tTraining Loss: 0.953828\n",
            "Epoch: 60 \tTraining Loss: 0.950114\n",
            "Epoch: 61 \tTraining Loss: 0.946511\n",
            "Epoch: 62 \tTraining Loss: 0.949873\n",
            "Epoch: 63 \tTraining Loss: 0.934323\n",
            "Epoch: 64 \tTraining Loss: 0.939672\n",
            "Epoch: 65 \tTraining Loss: 0.941354\n",
            "Epoch: 66 \tTraining Loss: 0.938673\n",
            "Epoch: 67 \tTraining Loss: 0.933009\n",
            "Epoch: 68 \tTraining Loss: 0.935984\n",
            "Epoch: 69 \tTraining Loss: 0.923873\n",
            "Epoch: 70 \tTraining Loss: 0.923765\n",
            "Epoch: 71 \tTraining Loss: 0.929384\n",
            "Epoch: 72 \tTraining Loss: 0.919276\n",
            "Epoch: 73 \tTraining Loss: 0.916736\n",
            "Epoch: 74 \tTraining Loss: 0.918320\n",
            "Epoch: 75 \tTraining Loss: 0.909278\n",
            "Finished Training\n",
            "--------------------------------------------------\n",
            "Test Loss: 1.170764\n",
            "\n",
            "Test Accuracy of book_cover: 81% (144/177)\n",
            "Test Accuracy of magazine_cover: 24% (44/180)\n",
            "Test Accuracy of movie_poster: 20% (35/175)\n",
            "\n",
            "Test Accuracy (Overall): 41% (223/532)\n"
          ]
        }
      ]
    }
  ]
}